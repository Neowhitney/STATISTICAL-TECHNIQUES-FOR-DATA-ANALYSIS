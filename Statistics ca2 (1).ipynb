{
 "cells": [
  {
   "cell_type": "markdown",
   "id": "bf7cc187",
   "metadata": {},
   "source": [
    "## TASK 1 \n",
    "1. Load the dataset Q1.csv. It contains the exam scores (in percentages) of a sample of 50 students\n",
    "from a Dublin secondary school.\n",
    "a. Find and comment on important summary statistics and produce an appropriate plot to\n",
    "summarise the dataset.\n",
    "b. One of the teachers is concerned about the performance of the students in the school. She\n",
    "suspects that their performance may be below the reported national average of 70%. Does\n",
    "the data show that her concerns are justified? Use a significance level of alpha = 0.05.\n",
    "c. Produce and comment on an appropriate plot to illustrate your findings. "
   ]
  },
  {
   "cell_type": "markdown",
   "id": "498d3abc",
   "metadata": {},
   "source": [
    "The next 3 steps contain me loading important libraries, loading the dataset and displaying the first 5 rows and checking for missing values, i do this to inspect and understand the structureof the dataset."
   ]
  },
  {
   "cell_type": "code",
   "execution_count": 1,
   "id": "0dff9b7f",
   "metadata": {},
   "outputs": [],
   "source": [
    "import pandas as pd\n",
    "import numpy as np\n",
    "import statistics as stats\n",
    "import matplotlib.pyplot as plt\n",
    "import seaborn as sns\n",
    "import matplotlib.pyplot as plt\n",
    "from scipy import stats\n",
    "import scipy.stats as stats"
   ]
  },
  {
   "cell_type": "code",
   "execution_count": 2,
   "id": "b1c130c0",
   "metadata": {},
   "outputs": [],
   "source": [
    "#load the dataset that i will be using for the report\n",
    "df = pd.read_csv(\"Q1.csv\")"
   ]
  },
  {
   "cell_type": "code",
   "execution_count": 3,
   "id": "09b24164",
   "metadata": {},
   "outputs": [
    {
     "data": {
      "text/html": [
       "<div>\n",
       "<style scoped>\n",
       "    .dataframe tbody tr th:only-of-type {\n",
       "        vertical-align: middle;\n",
       "    }\n",
       "\n",
       "    .dataframe tbody tr th {\n",
       "        vertical-align: top;\n",
       "    }\n",
       "\n",
       "    .dataframe thead th {\n",
       "        text-align: right;\n",
       "    }\n",
       "</style>\n",
       "<table border=\"1\" class=\"dataframe\">\n",
       "  <thead>\n",
       "    <tr style=\"text-align: right;\">\n",
       "      <th></th>\n",
       "      <th>exam_score</th>\n",
       "    </tr>\n",
       "  </thead>\n",
       "  <tbody>\n",
       "    <tr>\n",
       "      <th>0</th>\n",
       "      <td>74.54</td>\n",
       "    </tr>\n",
       "    <tr>\n",
       "      <th>1</th>\n",
       "      <td>66.20</td>\n",
       "    </tr>\n",
       "    <tr>\n",
       "      <th>2</th>\n",
       "      <td>86.75</td>\n",
       "    </tr>\n",
       "    <tr>\n",
       "      <th>3</th>\n",
       "      <td>70.87</td>\n",
       "    </tr>\n",
       "    <tr>\n",
       "      <th>4</th>\n",
       "      <td>80.43</td>\n",
       "    </tr>\n",
       "  </tbody>\n",
       "</table>\n",
       "</div>"
      ],
      "text/plain": [
       "   exam_score\n",
       "0       74.54\n",
       "1       66.20\n",
       "2       86.75\n",
       "3       70.87\n",
       "4       80.43"
      ]
     },
     "execution_count": 3,
     "metadata": {},
     "output_type": "execute_result"
    }
   ],
   "source": [
    "df.head()"
   ]
  },
  {
   "cell_type": "code",
   "execution_count": 4,
   "id": "7ed969e9",
   "metadata": {},
   "outputs": [
    {
     "name": "stdout",
     "output_type": "stream",
     "text": [
      "\n",
      "Missing values in the dataset:\n",
      "exam_score    0\n",
      "dtype: int64\n"
     ]
    }
   ],
   "source": [
    "print(\"\\nMissing values in the dataset:\")\n",
    "print(df.isnull().sum())"
   ]
  },
  {
   "cell_type": "markdown",
   "id": "bd015c22",
   "metadata": {},
   "source": [
    "Next i will be performing summary statisticsto have an insite into the central tendency, the dispersion and distribution of the dataset which is very important to understanding student perfomance."
   ]
  },
  {
   "cell_type": "code",
   "execution_count": 5,
   "id": "1a87ae31",
   "metadata": {},
   "outputs": [],
   "source": [
    "#summary statistics\n",
    "sum_stats = df.describe()"
   ]
  },
  {
   "cell_type": "code",
   "execution_count": 6,
   "id": "00ae434d",
   "metadata": {},
   "outputs": [
    {
     "data": {
      "text/html": [
       "<div>\n",
       "<style scoped>\n",
       "    .dataframe tbody tr th:only-of-type {\n",
       "        vertical-align: middle;\n",
       "    }\n",
       "\n",
       "    .dataframe tbody tr th {\n",
       "        vertical-align: top;\n",
       "    }\n",
       "\n",
       "    .dataframe thead th {\n",
       "        text-align: right;\n",
       "    }\n",
       "</style>\n",
       "<table border=\"1\" class=\"dataframe\">\n",
       "  <thead>\n",
       "    <tr style=\"text-align: right;\">\n",
       "      <th></th>\n",
       "      <th>exam_score</th>\n",
       "    </tr>\n",
       "  </thead>\n",
       "  <tbody>\n",
       "    <tr>\n",
       "      <th>count</th>\n",
       "      <td>50.000000</td>\n",
       "    </tr>\n",
       "    <tr>\n",
       "      <th>mean</th>\n",
       "      <td>68.735600</td>\n",
       "    </tr>\n",
       "    <tr>\n",
       "      <th>std</th>\n",
       "      <td>9.750143</td>\n",
       "    </tr>\n",
       "    <tr>\n",
       "      <th>min</th>\n",
       "      <td>48.730000</td>\n",
       "    </tr>\n",
       "    <tr>\n",
       "      <th>25%</th>\n",
       "      <td>62.040000</td>\n",
       "    </tr>\n",
       "    <tr>\n",
       "      <th>50%</th>\n",
       "      <td>68.390000</td>\n",
       "    </tr>\n",
       "    <tr>\n",
       "      <th>75%</th>\n",
       "      <td>74.630000</td>\n",
       "    </tr>\n",
       "    <tr>\n",
       "      <th>max</th>\n",
       "      <td>87.360000</td>\n",
       "    </tr>\n",
       "  </tbody>\n",
       "</table>\n",
       "</div>"
      ],
      "text/plain": [
       "       exam_score\n",
       "count   50.000000\n",
       "mean    68.735600\n",
       "std      9.750143\n",
       "min     48.730000\n",
       "25%     62.040000\n",
       "50%     68.390000\n",
       "75%     74.630000\n",
       "max     87.360000"
      ]
     },
     "execution_count": 6,
     "metadata": {},
     "output_type": "execute_result"
    }
   ],
   "source": [
    "#Display summary stastics\n",
    "sum_stats"
   ]
  },
  {
   "cell_type": "markdown",
   "id": "3d1a2499",
   "metadata": {},
   "source": [
    "A histogram is plotted to see the exam score distribution amongst the students"
   ]
  },
  {
   "cell_type": "code",
   "execution_count": 7,
   "id": "bb7dc15b",
   "metadata": {},
   "outputs": [
    {
     "data": {
      "image/png": "[encoded data removed]",
      "text/plain": [
       "<Figure size 640x480 with 1 Axes>"
      ]
     },
     "metadata": {},
     "output_type": "display_data"
    }
   ],
   "source": [
    "#Plot a histogram of the exam scores in the dataset\n",
    "plt.hist(df['exam_score'], bins=10, edgecolor='black')\n",
    "plt.title('Exam Scores Distribution')\n",
    "plt.xlabel('exam_score')\n",
    "plt.ylabel('Frequency')\n",
    "plt.grid(True)\n",
    "plt.show()"
   ]
  },
  {
   "cell_type": "markdown",
   "id": "b6d7d6f6",
   "metadata": {},
   "source": [
    "Below a one sample t-test is executed to compare the sample mean to the national average to see if student perfomance is significantly below 70%.A negative t-statistic indicates that the sample mean is less than the national average.The pvalue is greater that 0.05 meaning that there is insufficient evidence to to come to the conclusion that the mean exam score in the sample is less than the national average of 70%.In conclusion there is no evidence to prove that the students' mean score is below national average."
   ]
  },
  {
   "cell_type": "code",
   "execution_count": 8,
   "id": "cd6d1081",
   "metadata": {},
   "outputs": [
    {
     "data": {
      "text/plain": [
       "(-0.9169771399834613, 0.18182298516031403)"
      ]
     },
     "execution_count": 8,
     "metadata": {},
     "output_type": "execute_result"
    }
   ],
   "source": [
    "#Hypothesis Testing\n",
    "national_average = 70\n",
    "t_stat, p_value = stats.ttest_1samp(df['exam_score'], national_average, alternative='less')\n",
    "t_stat, p_value"
   ]
  },
  {
   "cell_type": "code",
   "execution_count": 9,
   "id": "a6d68210",
   "metadata": {},
   "outputs": [
    {
     "name": "stdout",
     "output_type": "stream",
     "text": [
      "Fail to reject the null hypothesis. There is not enough evidence to suggest that the mean score is below the national average of 70%.\n"
     ]
    }
   ],
   "source": [
    "alpha = 0.05\n",
    "if p_value < alpha:\n",
    "    print(\"Reject the null hypothesis. There is evidence to suggest that the mean score is below the national average of 70%.\")\n",
    "else:\n",
    "    print(\"Fail to reject the null hypothesis. There is not enough evidence to suggest that the mean score is below the national average of 70%.\")"
   ]
  },
  {
   "cell_type": "markdown",
   "id": "d98c0a92",
   "metadata": {},
   "source": [
    "The histogram visualization is to give a visual summary of the distribution of exam scores amongst the students and to highlight the national average for conmparison sake. "
   ]
  },
  {
   "cell_type": "code",
   "execution_count": 10,
   "id": "a6538dcd",
   "metadata": {},
   "outputs": [
    {
     "data": {
      "image/png": "[encoded data removed]",
      "text/plain": [
       "<Figure size 640x480 with 1 Axes>"
      ]
     },
     "metadata": {},
     "output_type": "display_data"
    }
   ],
   "source": [
    "#Plot a histogram of the exam scores in the dataset\n",
    "plt.boxplot(df['exam_score'])\n",
    "plt.axhline(y=national_average, color='r', linestyle='--', label='National Average (70%)')\n",
    "plt.title('Exam Scores Box Plot')\n",
    "plt.ylabel('exam_score')\n",
    "plt.legend()\n",
    "plt.grid(True)\n",
    "plt.show()"
   ]
  },
  {
   "cell_type": "markdown",
   "id": "3ac085c8",
   "metadata": {},
   "source": [
    "## TASK 2\n",
    "Load the diamonds dataset, and print the first 5 rows. The color variable refers to the colour of the\n",
    "diamond, with categories from “D” to “J”. Colourless diamonds are considered better than\n",
    "diamonds with a yellow tint. Diamonds from “D” to “F” are considered colourless, and diamonds\n",
    "from colour “G” to “J” are not considered colourless (that is, they have a very faint colour).\n",
    "a. Create a new binary variable in the dataframe called “colourless” which records 1 in rows\n",
    "with colourless diamonds and 0 otherwise.\n",
    "b. Perform an appropriate hypothesis test to determine whether there is any association\n",
    "between the clarity of a diamond and whether it is colourless or not. Use a significance\n",
    "level of alpha = 0.01.\n",
    "c. Produce and comment on an appropriate plot to illustrate your findings.\n",
    "d. Find and interpret 90% confidence intervals for both the mean price of colourless diamonds\n",
    "and the mean price of non-colourless diamonds. "
   ]
  },
  {
   "cell_type": "markdown",
   "id": "7580021f",
   "metadata": {},
   "source": [
    "The next 3 steps contain me loading important libraries, loading the dataset and displaying the first 5 rows and checking for missing values, i do this to inspect and understand the structureof the dataset."
   ]
  },
  {
   "cell_type": "code",
   "execution_count": 11,
   "id": "dc3de585",
   "metadata": {},
   "outputs": [],
   "source": [
    "import pandas as pd\n",
    "import numpy as np\n",
    "import statistics as stats\n",
    "import matplotlib.pyplot as plt\n",
    "import seaborn as sns\n",
    "import matplotlib.pyplot as plt\n",
    "from scipy.stats import chi2_contingency, norm\n"
   ]
  },
  {
   "cell_type": "code",
   "execution_count": 12,
   "id": "15f31a45",
   "metadata": {},
   "outputs": [],
   "source": [
    "#load the dataset that i will be using for the report\n",
    "df = pd.read_csv(\"diamonds.csv\")"
   ]
  },
  {
   "cell_type": "code",
   "execution_count": 13,
   "id": "08186831",
   "metadata": {
    "scrolled": true
   },
   "outputs": [
    {
     "data": {
      "text/html": [
       "<div>\n",
       "<style scoped>\n",
       "    .dataframe tbody tr th:only-of-type {\n",
       "        vertical-align: middle;\n",
       "    }\n",
       "\n",
       "    .dataframe tbody tr th {\n",
       "        vertical-align: top;\n",
       "    }\n",
       "\n",
       "    .dataframe thead th {\n",
       "        text-align: right;\n",
       "    }\n",
       "</style>\n",
       "<table border=\"1\" class=\"dataframe\">\n",
       "  <thead>\n",
       "    <tr style=\"text-align: right;\">\n",
       "      <th></th>\n",
       "      <th>carat</th>\n",
       "      <th>cut</th>\n",
       "      <th>color</th>\n",
       "      <th>clarity</th>\n",
       "      <th>depth</th>\n",
       "      <th>table</th>\n",
       "      <th>price</th>\n",
       "      <th>x</th>\n",
       "      <th>y</th>\n",
       "      <th>z</th>\n",
       "    </tr>\n",
       "  </thead>\n",
       "  <tbody>\n",
       "    <tr>\n",
       "      <th>0</th>\n",
       "      <td>0.23</td>\n",
       "      <td>Ideal</td>\n",
       "      <td>E</td>\n",
       "      <td>SI2</td>\n",
       "      <td>61.5</td>\n",
       "      <td>55.0</td>\n",
       "      <td>326</td>\n",
       "      <td>3.95</td>\n",
       "      <td>3.98</td>\n",
       "      <td>2.43</td>\n",
       "    </tr>\n",
       "    <tr>\n",
       "      <th>1</th>\n",
       "      <td>0.21</td>\n",
       "      <td>Premium</td>\n",
       "      <td>E</td>\n",
       "      <td>SI1</td>\n",
       "      <td>59.8</td>\n",
       "      <td>61.0</td>\n",
       "      <td>326</td>\n",
       "      <td>3.89</td>\n",
       "      <td>3.84</td>\n",
       "      <td>2.31</td>\n",
       "    </tr>\n",
       "    <tr>\n",
       "      <th>2</th>\n",
       "      <td>0.23</td>\n",
       "      <td>Good</td>\n",
       "      <td>E</td>\n",
       "      <td>VS1</td>\n",
       "      <td>56.9</td>\n",
       "      <td>65.0</td>\n",
       "      <td>327</td>\n",
       "      <td>4.05</td>\n",
       "      <td>4.07</td>\n",
       "      <td>2.31</td>\n",
       "    </tr>\n",
       "    <tr>\n",
       "      <th>3</th>\n",
       "      <td>0.29</td>\n",
       "      <td>Premium</td>\n",
       "      <td>I</td>\n",
       "      <td>VS2</td>\n",
       "      <td>62.4</td>\n",
       "      <td>58.0</td>\n",
       "      <td>334</td>\n",
       "      <td>4.20</td>\n",
       "      <td>4.23</td>\n",
       "      <td>2.63</td>\n",
       "    </tr>\n",
       "    <tr>\n",
       "      <th>4</th>\n",
       "      <td>0.31</td>\n",
       "      <td>Good</td>\n",
       "      <td>J</td>\n",
       "      <td>SI2</td>\n",
       "      <td>63.3</td>\n",
       "      <td>58.0</td>\n",
       "      <td>335</td>\n",
       "      <td>4.34</td>\n",
       "      <td>4.35</td>\n",
       "      <td>2.75</td>\n",
       "    </tr>\n",
       "  </tbody>\n",
       "</table>\n",
       "</div>"
      ],
      "text/plain": [
       "   carat      cut color clarity  depth  table  price     x     y     z\n",
       "0   0.23    Ideal     E     SI2   61.5   55.0    326  3.95  3.98  2.43\n",
       "1   0.21  Premium     E     SI1   59.8   61.0    326  3.89  3.84  2.31\n",
       "2   0.23     Good     E     VS1   56.9   65.0    327  4.05  4.07  2.31\n",
       "3   0.29  Premium     I     VS2   62.4   58.0    334  4.20  4.23  2.63\n",
       "4   0.31     Good     J     SI2   63.3   58.0    335  4.34  4.35  2.75"
      ]
     },
     "execution_count": 13,
     "metadata": {},
     "output_type": "execute_result"
    }
   ],
   "source": [
    "df.head()"
   ]
  },
  {
   "cell_type": "markdown",
   "id": "6845f65f",
   "metadata": {},
   "source": [
    "The next 4 cells i clean up the dataset to ensure that no missing values, nan values aaffect my final results and luckily there wer no missing values in the dataset."
   ]
  },
  {
   "cell_type": "code",
   "execution_count": 14,
   "id": "36ad8faa",
   "metadata": {},
   "outputs": [
    {
     "name": "stdout",
     "output_type": "stream",
     "text": [
      "\n",
      "Missing values in the dataset:\n",
      "carat      0\n",
      "cut        0\n",
      "color      0\n",
      "clarity    0\n",
      "depth      0\n",
      "table      0\n",
      "price      0\n",
      "x          0\n",
      "y          0\n",
      "z          0\n",
      "dtype: int64\n"
     ]
    }
   ],
   "source": [
    "print(\"\\nMissing values in the dataset:\")\n",
    "print(df.isnull().sum())"
   ]
  },
  {
   "cell_type": "code",
   "execution_count": 15,
   "id": "3b1ade9b",
   "metadata": {},
   "outputs": [
    {
     "name": "stdout",
     "output_type": "stream",
     "text": [
      "carat      0\n",
      "cut        0\n",
      "color      0\n",
      "clarity    0\n",
      "depth      0\n",
      "table      0\n",
      "price      0\n",
      "x          0\n",
      "y          0\n",
      "z          0\n",
      "dtype: int64\n"
     ]
    }
   ],
   "source": [
    "print(df.isna().sum())"
   ]
  },
  {
   "cell_type": "code",
   "execution_count": 16,
   "id": "2299d0d2",
   "metadata": {},
   "outputs": [],
   "source": [
    "df = df.dropna()"
   ]
  },
  {
   "cell_type": "code",
   "execution_count": 17,
   "id": "0b6bb851",
   "metadata": {},
   "outputs": [
    {
     "name": "stdout",
     "output_type": "stream",
     "text": [
      "carat      0\n",
      "cut        0\n",
      "color      0\n",
      "clarity    0\n",
      "depth      0\n",
      "table      0\n",
      "price      0\n",
      "x          0\n",
      "y          0\n",
      "z          0\n",
      "dtype: int64\n"
     ]
    }
   ],
   "source": [
    "print(df.isna().sum())"
   ]
  },
  {
   "cell_type": "code",
   "execution_count": 18,
   "id": "c8e0f135",
   "metadata": {},
   "outputs": [
    {
     "name": "stdout",
     "output_type": "stream",
     "text": [
      "carat      float64\n",
      "cut         object\n",
      "color       object\n",
      "clarity     object\n",
      "depth      float64\n",
      "table      float64\n",
      "price        int64\n",
      "x          float64\n",
      "y          float64\n",
      "z          float64\n",
      "dtype: object\n"
     ]
    }
   ],
   "source": [
    "print(df.dtypes)"
   ]
  },
  {
   "cell_type": "code",
   "execution_count": 19,
   "id": "12096281",
   "metadata": {},
   "outputs": [],
   "source": [
    "df['price'] = pd.to_numeric(df['price'], errors='coerce')"
   ]
  },
  {
   "cell_type": "code",
   "execution_count": 20,
   "id": "8480cfcf",
   "metadata": {},
   "outputs": [],
   "source": [
    "df = df.dropna(subset=['price'])"
   ]
  },
  {
   "cell_type": "markdown",
   "id": "4637730d",
   "metadata": {},
   "source": [
    "The next 7 columns i will be dealing with the color column of my dataset which can be divided into  \"color\" or \"colourless\", i investigate the unique values in the column and i create a new binary variable to classify diamonds as colourless or not to visualization and hypothesis testing easier."
   ]
  },
  {
   "cell_type": "code",
   "execution_count": 21,
   "id": "4f0baeff",
   "metadata": {},
   "outputs": [
    {
     "name": "stdout",
     "output_type": "stream",
     "text": [
      "Unique value in the 'color' column:\n",
      "['E' 'I' 'J' 'H' 'F' 'G' 'D']\n"
     ]
    }
   ],
   "source": [
    "print(\"Unique value in the 'color' column:\")\n",
    "print(df['color'].unique())"
   ]
  },
  {
   "cell_type": "code",
   "execution_count": 22,
   "id": "22543ada",
   "metadata": {},
   "outputs": [],
   "source": [
    "df['color'] = df['color'].astype(str)"
   ]
  },
  {
   "cell_type": "code",
   "execution_count": 23,
   "id": "d2d562cf",
   "metadata": {},
   "outputs": [],
   "source": [
    "#print(\"Unique value in the 'colourless' column:\")\n",
    "#print(df['colourless'].unique())"
   ]
  },
  {
   "cell_type": "code",
   "execution_count": 24,
   "id": "6d25d0bc",
   "metadata": {},
   "outputs": [],
   "source": [
    "# i create a new binary variable  called \"colourless\"\n",
    "df['colourless'] = df['color'].apply(lambda x: 1 if x in ['D', 'E', 'F'] else 0)"
   ]
  },
  {
   "cell_type": "code",
   "execution_count": 25,
   "id": "1126b217",
   "metadata": {},
   "outputs": [],
   "source": [
    "df['colourless'] = df['colourless'].astype(str)"
   ]
  },
  {
   "cell_type": "code",
   "execution_count": 26,
   "id": "7df038ea",
   "metadata": {},
   "outputs": [],
   "source": [
    "\n",
    "# Create a new binary variable \"colourless\"\n",
    "#df['colourless'] = df['color'].apply(lambda x: 1 if x in ['D', 'I', 'J', 'H', 'G','E', 'F'] else 0)"
   ]
  },
  {
   "cell_type": "code",
   "execution_count": 27,
   "id": "445d0789",
   "metadata": {
    "scrolled": true
   },
   "outputs": [
    {
     "name": "stdout",
     "output_type": "stream",
     "text": [
      "Unique value in the 'colourless' column:\n",
      "['1' '0']\n",
      "  color colourless\n",
      "0     E          1\n",
      "1     E          1\n",
      "2     E          1\n",
      "3     I          0\n",
      "4     J          0\n",
      "5     J          0\n",
      "6     I          0\n",
      "7     H          0\n",
      "8     E          1\n",
      "9     H          0\n"
     ]
    }
   ],
   "source": [
    "print(\"Unique value in the 'colourless' column:\")\n",
    "print(df['colourless'].unique())\n",
    "print(df[['color', 'colourless']].head(10))"
   ]
  },
  {
   "cell_type": "code",
   "execution_count": 28,
   "id": "00959cab",
   "metadata": {},
   "outputs": [],
   "source": [
    "# i create a new binary variable  called \"colourless\"\n",
    "#df['colourless'] = df['color'].apply(lambda x: 1 if x in ['D', 'E', 'F'] else 0)"
   ]
  },
  {
   "cell_type": "code",
   "execution_count": null,
   "id": "ca35ff2b",
   "metadata": {},
   "outputs": [],
   "source": []
  },
  {
   "cell_type": "code",
   "execution_count": 29,
   "id": "63f062db",
   "metadata": {},
   "outputs": [
    {
     "name": "stdout",
     "output_type": "stream",
     "text": [
      "\n",
      "Chi-squared test statistic: 486.47305941485223, p-vaue: 6.481587124454715e-101\n"
     ]
    }
   ],
   "source": [
    "# I perform chi squared to find out the association bbetween clarity and colourlessness\n",
    "contingency_table = pd.crosstab(df['clarity'], df['colourless'])\n",
    "chi2, p, dof, expected = chi2_contingency(contingency_table)\n",
    "print(f\"\\nChi-squared test statistic: {chi2}, p-vaue: {p}\")"
   ]
  },
  {
   "cell_type": "markdown",
   "id": "85d23133",
   "metadata": {},
   "source": [
    "The chi squared test to asess whether the is a relationship between diamond clarity and being colourless.P-value is more than 0.01 so there is no association between clarity and colourlessness."
   ]
  },
  {
   "cell_type": "code",
   "execution_count": 30,
   "id": "713aa99e",
   "metadata": {},
   "outputs": [
    {
     "data": {
      "image/png": "[encoded data removed]",
      "text/plain": [
       "<Figure size 1000x600 with 1 Axes>"
      ]
     },
     "metadata": {},
     "output_type": "display_data"
    }
   ],
   "source": [
    "df['colourless'] = df['colourless'].astype(str)\n",
    "plt.figure(figsize=(10, 6))\n",
    "sns.countplot(data=df, x='clarity', hue='colourless')\n",
    "plt.title('Count of Diamonds by Clarity and Colourless')\n",
    "plt.xlabel('Clarity')\n",
    "plt.ylabel('Count')\n",
    "plt.legend(title='Colourless', loc='upper right', labels=['Not Colourless', 'Colourless'])\n",
    "plt.show()"
   ]
  },
  {
   "cell_type": "markdown",
   "id": "6f5af605",
   "metadata": {},
   "source": [
    "The bar chart is to visually show thdistribution of diamonds by colourlessness, clarity."
   ]
  },
  {
   "cell_type": "code",
   "execution_count": 31,
   "id": "d7e12f2f",
   "metadata": {},
   "outputs": [],
   "source": [
    "#I calculate the 90% confidence intervals for mean price of colourless and non colourless diamonds\n",
    "colourless_prices = df[df['colourless'] == '1']['price']\n",
    "non_colourless_prices = df[df['colourless']== '0']['price']"
   ]
  },
  {
   "cell_type": "code",
   "execution_count": 32,
   "id": "632daa40",
   "metadata": {},
   "outputs": [
    {
     "name": "stdout",
     "output_type": "stream",
     "text": [
      "Colourless prices summary statistics:\n",
      "count    26114.000000\n",
      "mean      3337.759401\n",
      "std       3527.047348\n",
      "min        326.000000\n",
      "25%        919.000000\n",
      "50%       1938.500000\n",
      "75%       4372.000000\n",
      "max      18791.000000\n",
      "Name: price, dtype: float64\n",
      "Non-colourless prices summary statistics:\n",
      "count    27826.000000\n",
      "mean      4491.230073\n",
      "std       4305.086420\n",
      "min        334.000000\n",
      "25%        998.000000\n",
      "50%       3070.000000\n",
      "75%       6334.000000\n",
      "max      18823.000000\n",
      "Name: price, dtype: float64\n"
     ]
    }
   ],
   "source": [
    "print(\"Colourless prices summary statistics:\")\n",
    "print(colourless_prices.describe())\n",
    "print(\"Non-colourless prices summary statistics:\")\n",
    "print(non_colourless_prices.describe())"
   ]
  },
  {
   "cell_type": "code",
   "execution_count": 33,
   "id": "8c3fb767",
   "metadata": {},
   "outputs": [
    {
     "name": "stdout",
     "output_type": "stream",
     "text": [
      "0         326\n",
      "1         326\n",
      "2         327\n",
      "3         334\n",
      "4         335\n",
      "         ... \n",
      "53935    2757\n",
      "53936    2757\n",
      "53937    2757\n",
      "53938    2757\n",
      "53939    2757\n",
      "Name: price, Length: 53940, dtype: int64\n"
     ]
    }
   ],
   "source": [
    "print(df[\"price\"])"
   ]
  },
  {
   "cell_type": "code",
   "execution_count": 34,
   "id": "25d718d5",
   "metadata": {},
   "outputs": [],
   "source": [
    "#print(color['prices'].describe())"
   ]
  },
  {
   "cell_type": "code",
   "execution_count": 35,
   "id": "66b935be",
   "metadata": {},
   "outputs": [],
   "source": [
    "#print(colourless_prices.describe())"
   ]
  },
  {
   "cell_type": "code",
   "execution_count": 36,
   "id": "9532ba7c",
   "metadata": {},
   "outputs": [],
   "source": [
    "#df[\"price\"].fillna(df[\"price\"].mean(), inplace=True)"
   ]
  },
  {
   "cell_type": "markdown",
   "id": "12e95c21",
   "metadata": {},
   "source": [
    "Confidence intervals give the range with the true mean price of colourless abd non-colourless diamonds is more than likely to fall and this gives more insight into the price differences amongst those categories.These intervals provide strong evidence that non-colourless diamonds command a higher mean price than colourless ones.\n"
   ]
  },
  {
   "cell_type": "code",
   "execution_count": 37,
   "id": "ebae292a",
   "metadata": {},
   "outputs": [],
   "source": [
    "def confidence_interval(data, confidence=0.90):\n",
    "    mean = np.mean(data)\n",
    "    sem= np.std(data, ddof=1) / np.sqrt(len(data))\n",
    "    margin_of_error = sem * norm.ppf((1 + confidence) / 2)\n",
    "    return mean - margin_of_error, mean + margin_of_error"
   ]
  },
  {
   "cell_type": "code",
   "execution_count": 38,
   "id": "b8d8631a",
   "metadata": {},
   "outputs": [],
   "source": [
    "chi_colourless = confidence_interval(colourless_prices)\n",
    "chi_non_colourless = confidence_interval(non_colourless_prices)"
   ]
  },
  {
   "cell_type": "code",
   "execution_count": 39,
   "id": "c401472b",
   "metadata": {},
   "outputs": [
    {
     "name": "stdout",
     "output_type": "stream",
     "text": [
      "\n",
      "90% CHI for colourless diamonds' mean price: (3301.858789536041, 3373.660012639037)\n",
      "90% CHI for non-colourless diamonds' mean price: (4448.779481651932, 4533.680663536022)\n"
     ]
    }
   ],
   "source": [
    "print(f\"\\n90% CHI for colourless diamonds' mean price: {chi_colourless}\")\n",
    "print(f\"90% CHI for non-colourless diamonds' mean price: {chi_non_colourless}\")"
   ]
  },
  {
   "cell_type": "markdown",
   "id": "a4fa81c6",
   "metadata": {},
   "source": [
    "## TASK 3\n",
    "Load the PlantGrowth dataset from the pydataset library. It contains the results of a small study\n",
    "comparing the yields of plants obtained under a control and under two different treatment\n",
    "conditions.\n",
    "a. Find and comment on important summary statistics by treatment and produce an\n",
    "appropriate plot to summarise the dataset.\n",
    "b. Conduct an appropriate hypothesis test to see if there is evidence of a difference between\n",
    "the three means (that is, the control and the two treatments). Use a significance level of\n",
    "alpha = 0.05.\n",
    "c. If there is evidence of a difference between the three means, find and comment on where\n",
    "this difference may be."
   ]
  },
  {
   "cell_type": "code",
   "execution_count": 40,
   "id": "8ec43c79",
   "metadata": {},
   "outputs": [],
   "source": [
    "import pandas as pd\n",
    "import numpy as np\n",
    "import statistics as stats\n",
    "import matplotlib.pyplot as plt\n",
    "import seaborn as sns\n",
    "import matplotlib.pyplot as plt\n",
    "from scipy.stats import f_oneway\n",
    "from statsmodels.stats.multicomp import pairwise_tukeyhsd"
   ]
  },
  {
   "cell_type": "code",
   "execution_count": 41,
   "id": "6a78e87f",
   "metadata": {},
   "outputs": [],
   "source": [
    "#load the dataset that i will be using for the report\n",
    "df = pd.read_csv(\"PlantGrowth.csv\")"
   ]
  },
  {
   "cell_type": "code",
   "execution_count": 42,
   "id": "f6c0e8ac",
   "metadata": {},
   "outputs": [
    {
     "data": {
      "text/html": [
       "<div>\n",
       "<style scoped>\n",
       "    .dataframe tbody tr th:only-of-type {\n",
       "        vertical-align: middle;\n",
       "    }\n",
       "\n",
       "    .dataframe tbody tr th {\n",
       "        vertical-align: top;\n",
       "    }\n",
       "\n",
       "    .dataframe thead th {\n",
       "        text-align: right;\n",
       "    }\n",
       "</style>\n",
       "<table border=\"1\" class=\"dataframe\">\n",
       "  <thead>\n",
       "    <tr style=\"text-align: right;\">\n",
       "      <th></th>\n",
       "      <th>rownames</th>\n",
       "      <th>weight</th>\n",
       "      <th>group</th>\n",
       "    </tr>\n",
       "  </thead>\n",
       "  <tbody>\n",
       "    <tr>\n",
       "      <th>0</th>\n",
       "      <td>1</td>\n",
       "      <td>4.17</td>\n",
       "      <td>ctrl</td>\n",
       "    </tr>\n",
       "    <tr>\n",
       "      <th>1</th>\n",
       "      <td>2</td>\n",
       "      <td>5.58</td>\n",
       "      <td>ctrl</td>\n",
       "    </tr>\n",
       "    <tr>\n",
       "      <th>2</th>\n",
       "      <td>3</td>\n",
       "      <td>5.18</td>\n",
       "      <td>ctrl</td>\n",
       "    </tr>\n",
       "    <tr>\n",
       "      <th>3</th>\n",
       "      <td>4</td>\n",
       "      <td>6.11</td>\n",
       "      <td>ctrl</td>\n",
       "    </tr>\n",
       "    <tr>\n",
       "      <th>4</th>\n",
       "      <td>5</td>\n",
       "      <td>4.50</td>\n",
       "      <td>ctrl</td>\n",
       "    </tr>\n",
       "    <tr>\n",
       "      <th>5</th>\n",
       "      <td>6</td>\n",
       "      <td>4.61</td>\n",
       "      <td>ctrl</td>\n",
       "    </tr>\n",
       "    <tr>\n",
       "      <th>6</th>\n",
       "      <td>7</td>\n",
       "      <td>5.17</td>\n",
       "      <td>ctrl</td>\n",
       "    </tr>\n",
       "    <tr>\n",
       "      <th>7</th>\n",
       "      <td>8</td>\n",
       "      <td>4.53</td>\n",
       "      <td>ctrl</td>\n",
       "    </tr>\n",
       "    <tr>\n",
       "      <th>8</th>\n",
       "      <td>9</td>\n",
       "      <td>5.33</td>\n",
       "      <td>ctrl</td>\n",
       "    </tr>\n",
       "    <tr>\n",
       "      <th>9</th>\n",
       "      <td>10</td>\n",
       "      <td>5.14</td>\n",
       "      <td>ctrl</td>\n",
       "    </tr>\n",
       "  </tbody>\n",
       "</table>\n",
       "</div>"
      ],
      "text/plain": [
       "   rownames  weight group\n",
       "0         1    4.17  ctrl\n",
       "1         2    5.58  ctrl\n",
       "2         3    5.18  ctrl\n",
       "3         4    6.11  ctrl\n",
       "4         5    4.50  ctrl\n",
       "5         6    4.61  ctrl\n",
       "6         7    5.17  ctrl\n",
       "7         8    4.53  ctrl\n",
       "8         9    5.33  ctrl\n",
       "9        10    5.14  ctrl"
      ]
     },
     "execution_count": 42,
     "metadata": {},
     "output_type": "execute_result"
    }
   ],
   "source": [
    "df.head(10)"
   ]
  },
  {
   "cell_type": "code",
   "execution_count": 43,
   "id": "d440134e",
   "metadata": {},
   "outputs": [
    {
     "name": "stdout",
     "output_type": "stream",
     "text": [
      "\n",
      "Missing values in the dataset:\n",
      "rownames    0\n",
      "weight      0\n",
      "group       0\n",
      "dtype: int64\n"
     ]
    }
   ],
   "source": [
    "print(\"\\nMissing values in the dataset:\")\n",
    "print(df.isnull().sum())"
   ]
  },
  {
   "cell_type": "code",
   "execution_count": 44,
   "id": "892f91f8",
   "metadata": {},
   "outputs": [
    {
     "name": "stdout",
     "output_type": "stream",
     "text": [
      "rownames    0\n",
      "weight      0\n",
      "group       0\n",
      "dtype: int64\n"
     ]
    }
   ],
   "source": [
    "print(df.isna().sum())"
   ]
  },
  {
   "cell_type": "code",
   "execution_count": 45,
   "id": "356dc260",
   "metadata": {},
   "outputs": [],
   "source": [
    "df = df.dropna()"
   ]
  },
  {
   "cell_type": "code",
   "execution_count": 46,
   "id": "813e8067",
   "metadata": {},
   "outputs": [
    {
     "name": "stdout",
     "output_type": "stream",
     "text": [
      "rownames    0\n",
      "weight      0\n",
      "group       0\n",
      "dtype: int64\n"
     ]
    }
   ],
   "source": [
    "print(df.isna().sum())"
   ]
  },
  {
   "cell_type": "code",
   "execution_count": 47,
   "id": "d9799ad9",
   "metadata": {},
   "outputs": [
    {
     "name": "stdout",
     "output_type": "stream",
     "text": [
      "['ctrl' 'trt1' 'trt2']\n"
     ]
    }
   ],
   "source": [
    "print(df['group'].unique())"
   ]
  },
  {
   "cell_type": "code",
   "execution_count": 48,
   "id": "b417f088",
   "metadata": {},
   "outputs": [
    {
     "name": "stdout",
     "output_type": "stream",
     "text": [
      "[ 1  2  3  4  5  6  7  8  9 10 11 12 13 14 15 16 17 18 19 20 21 22 23 24\n",
      " 25 26 27 28 29 30]\n"
     ]
    }
   ],
   "source": [
    "print(df['rownames'].unique())"
   ]
  },
  {
   "cell_type": "code",
   "execution_count": 49,
   "id": "aeb2103e",
   "metadata": {},
   "outputs": [
    {
     "name": "stdout",
     "output_type": "stream",
     "text": [
      "      rownames                                                weight         \\\n",
      "         count  mean      std   min    25%   50%    75%   max  count   mean   \n",
      "group                                                                         \n",
      "ctrl      10.0   5.5  3.02765   1.0   3.25   5.5   7.75  10.0   10.0  5.032   \n",
      "trt1      10.0  15.5  3.02765  11.0  13.25  15.5  17.75  20.0   10.0  4.661   \n",
      "trt2      10.0  25.5  3.02765  21.0  23.25  25.5  27.75  30.0   10.0  5.526   \n",
      "\n",
      "                                                    \n",
      "            std   min     25%    50%     75%   max  \n",
      "group                                               \n",
      "ctrl   0.583091  4.17  4.5500  5.155  5.2925  6.11  \n",
      "trt1   0.793676  3.59  4.2075  4.550  4.8700  6.03  \n",
      "trt2   0.442573  4.92  5.2675  5.435  5.7350  6.31  \n"
     ]
    }
   ],
   "source": [
    "summary_stats = df.groupby('group').describe()\n",
    "print(summary_stats)"
   ]
  },
  {
   "cell_type": "code",
   "execution_count": 50,
   "id": "9f00dbf5",
   "metadata": {},
   "outputs": [
    {
     "data": {
      "image/png": "[encoded data removed]",
      "text/plain": [
       "<Figure size 640x480 with 1 Axes>"
      ]
     },
     "metadata": {},
     "output_type": "display_data"
    }
   ],
   "source": [
    "sns.boxplot(data=df,x='group', y='weight')\n",
    "plt.title('Plant Growth by Treatment Group')\n",
    "plt.xlabel('Treatment Group')\n",
    "plt.ylabel('Weight')\n",
    "plt.show()"
   ]
  },
  {
   "cell_type": "code",
   "execution_count": 51,
   "id": "b4dfd76a",
   "metadata": {},
   "outputs": [],
   "source": [
    "group1 = df[df['group'] == 'ctrl']['weight']\n",
    "group2 = df[df['group'] == 'trt1']['weight']\n",
    "group3 = df[df['group'] == 'trt2']['weight']"
   ]
  },
  {
   "cell_type": "code",
   "execution_count": 52,
   "id": "897e55b0",
   "metadata": {},
   "outputs": [
    {
     "name": "stdout",
     "output_type": "stream",
     "text": [
      "ANOVA test statistic: 4.846087862380136, p-value: 0.0159099583256229\n"
     ]
    }
   ],
   "source": [
    "f_stat, p_value = f_oneway(group1, group2, group3)\n",
    "print(f\"ANOVA test statistic: {f_stat}, p-value: {p_value}\")"
   ]
  },
  {
   "cell_type": "code",
   "execution_count": 53,
   "id": "275ee6c5",
   "metadata": {},
   "outputs": [
    {
     "name": "stdout",
     "output_type": "stream",
     "text": [
      "rownames      int64\n",
      "weight      float64\n",
      "group        object\n",
      "dtype: object\n"
     ]
    }
   ],
   "source": [
    "print(df.dtypes)"
   ]
  },
  {
   "cell_type": "code",
   "execution_count": 54,
   "id": "c9ec71a8",
   "metadata": {},
   "outputs": [
    {
     "name": "stdout",
     "output_type": "stream",
     "text": [
      "Multiple Comparison of Means - Tukey HSD, FWER=0.05\n",
      "===================================================\n",
      "group1 group2 meandiff p-adj   lower  upper  reject\n",
      "---------------------------------------------------\n",
      "  ctrl   trt1   -0.371 0.3909 -1.0622 0.3202  False\n",
      "  ctrl   trt2    0.494  0.198 -0.1972 1.1852  False\n",
      "  trt1   trt2    0.865  0.012  0.1738 1.5562   True\n",
      "---------------------------------------------------\n"
     ]
    },
    {
     "data": {
      "image/png": "[encoded data removed]",
      "text/plain": [
       "<Figure size 1000x600 with 1 Axes>"
      ]
     },
     "metadata": {},
     "output_type": "display_data"
    }
   ],
   "source": [
    "if p_value < 0.05:\n",
    "    tukey_results = pairwise_tukeyhsd(df['weight'], df['group'])\n",
    "    print(tukey_results)\n",
    "    tukey_results.plot_simultaneous()\n",
    "    plt.show()"
   ]
  },
  {
   "cell_type": "markdown",
   "id": "6df383a0",
   "metadata": {},
   "source": [
    "## TASK 4\n",
    "Load the trees dataset from the pydataset library. It contains measurements of the diameter,\n",
    "height and volume of timber in 31 felled black cherry trees. Note that the diameter (in inches) is\n",
    "labelled girth in the dataset. It is measured at 4 foot 6 inches above the ground.\n",
    "a. Perform a correlation analysis between all numerical variables. Include and comment on\n",
    "the results of hypothesis tests for the population correlation coefficients between all three\n",
    "pairs of variables (you can use the pearsonr function from the scipy.stats library).\n",
    "b. There is interest in estimating the volume of timber from trees using either the girth or the\n",
    "height of the trees, or both. Perform a regression analysis to decide which of the three\n",
    "possible models you would recommend using. Interpret your results and provide a short\n",
    "conclusion of your findings.\n"
   ]
  },
  {
   "cell_type": "code",
   "execution_count": 55,
   "id": "9fcda290",
   "metadata": {},
   "outputs": [],
   "source": [
    "import pandas as pd\n",
    "import numpy as np\n",
    "import statistics as stats\n",
    "import matplotlib.pyplot as plt\n",
    "import seaborn as sns\n",
    "import matplotlib.pyplot as plt\n",
    "from scipy.stats import pearsonr\n",
    "import statsmodels.api as sm"
   ]
  },
  {
   "cell_type": "code",
   "execution_count": 56,
   "id": "bf520dcb",
   "metadata": {},
   "outputs": [],
   "source": [
    "#load the dataset that i will be using for the report\n",
    "df = pd.read_csv(\"trees.csv\")"
   ]
  },
  {
   "cell_type": "code",
   "execution_count": 57,
   "id": "31b1ded8",
   "metadata": {},
   "outputs": [
    {
     "data": {
      "text/html": [
       "<div>\n",
       "<style scoped>\n",
       "    .dataframe tbody tr th:only-of-type {\n",
       "        vertical-align: middle;\n",
       "    }\n",
       "\n",
       "    .dataframe tbody tr th {\n",
       "        vertical-align: top;\n",
       "    }\n",
       "\n",
       "    .dataframe thead th {\n",
       "        text-align: right;\n",
       "    }\n",
       "</style>\n",
       "<table border=\"1\" class=\"dataframe\">\n",
       "  <thead>\n",
       "    <tr style=\"text-align: right;\">\n",
       "      <th></th>\n",
       "      <th>rownames</th>\n",
       "      <th>Girth</th>\n",
       "      <th>Height</th>\n",
       "      <th>Volume</th>\n",
       "    </tr>\n",
       "  </thead>\n",
       "  <tbody>\n",
       "    <tr>\n",
       "      <th>0</th>\n",
       "      <td>1</td>\n",
       "      <td>8.3</td>\n",
       "      <td>70</td>\n",
       "      <td>10.3</td>\n",
       "    </tr>\n",
       "    <tr>\n",
       "      <th>1</th>\n",
       "      <td>2</td>\n",
       "      <td>8.6</td>\n",
       "      <td>65</td>\n",
       "      <td>10.3</td>\n",
       "    </tr>\n",
       "    <tr>\n",
       "      <th>2</th>\n",
       "      <td>3</td>\n",
       "      <td>8.8</td>\n",
       "      <td>63</td>\n",
       "      <td>10.2</td>\n",
       "    </tr>\n",
       "    <tr>\n",
       "      <th>3</th>\n",
       "      <td>4</td>\n",
       "      <td>10.5</td>\n",
       "      <td>72</td>\n",
       "      <td>16.4</td>\n",
       "    </tr>\n",
       "    <tr>\n",
       "      <th>4</th>\n",
       "      <td>5</td>\n",
       "      <td>10.7</td>\n",
       "      <td>81</td>\n",
       "      <td>18.8</td>\n",
       "    </tr>\n",
       "  </tbody>\n",
       "</table>\n",
       "</div>"
      ],
      "text/plain": [
       "   rownames  Girth  Height  Volume\n",
       "0         1    8.3      70    10.3\n",
       "1         2    8.6      65    10.3\n",
       "2         3    8.8      63    10.2\n",
       "3         4   10.5      72    16.4\n",
       "4         5   10.7      81    18.8"
      ]
     },
     "execution_count": 57,
     "metadata": {},
     "output_type": "execute_result"
    }
   ],
   "source": [
    "df.head()"
   ]
  },
  {
   "cell_type": "code",
   "execution_count": 58,
   "id": "b9bdc6c0",
   "metadata": {},
   "outputs": [
    {
     "name": "stdout",
     "output_type": "stream",
     "text": [
      "\n",
      "Missing values in the dataset:\n",
      "rownames    0\n",
      "Girth       0\n",
      "Height      0\n",
      "Volume      0\n",
      "dtype: int64\n"
     ]
    }
   ],
   "source": [
    "print(\"\\nMissing values in the dataset:\")\n",
    "print(df.isnull().sum())"
   ]
  },
  {
   "cell_type": "code",
   "execution_count": 59,
   "id": "e23acb8b",
   "metadata": {},
   "outputs": [
    {
     "name": "stdout",
     "output_type": "stream",
     "text": [
      "rownames    0\n",
      "Girth       0\n",
      "Height      0\n",
      "Volume      0\n",
      "dtype: int64\n"
     ]
    }
   ],
   "source": [
    "print(df.isna().sum())"
   ]
  },
  {
   "cell_type": "code",
   "execution_count": 60,
   "id": "57da9cad",
   "metadata": {},
   "outputs": [
    {
     "name": "stdout",
     "output_type": "stream",
     "text": [
      "Correlation Matrix:\n",
      "          rownames     Girth    Height    Volume\n",
      "rownames  1.000000  0.967207  0.467204  0.903349\n",
      "Girth     0.967207  1.000000  0.519280  0.967119\n",
      "Height    0.467204  0.519280  1.000000  0.598250\n",
      "Volume    0.903349  0.967119  0.598250  1.000000\n"
     ]
    }
   ],
   "source": [
    "correlation_matrix = df.corr()\n",
    "print(\"Correlation Matrix:\")\n",
    "print(correlation_matrix)"
   ]
  },
  {
   "cell_type": "code",
   "execution_count": 61,
   "id": "69ba5158",
   "metadata": {},
   "outputs": [
    {
     "data": {
      "image/png": "[encoded data removed]",
      "text/plain": [
       "<Figure size 1000x600 with 2 Axes>"
      ]
     },
     "metadata": {},
     "output_type": "display_data"
    }
   ],
   "source": [
    "plt.figure(figsize=(10, 6))\n",
    "sns.heatmap(correlation_matrix, annot=True, cmap='coolwarm', linewidths=0.5)\n",
    "plt.title('Correlation Matrix of Trees Dataset')\n",
    "plt.show()"
   ]
  },
  {
   "cell_type": "code",
   "execution_count": 62,
   "id": "b90ba06c",
   "metadata": {},
   "outputs": [
    {
     "name": "stdout",
     "output_type": "stream",
     "text": [
      "Girth-Height correlation: 0.5192800719499373, p-value: 0.0027578147930576663\n"
     ]
    }
   ],
   "source": [
    "corr_girth_height, p_girth_height = pearsonr(df['Girth'], df['Height'])\n",
    "print(f\"Girth-Height correlation: {corr_girth_height}, p-value: {p_girth_height}\")"
   ]
  },
  {
   "cell_type": "code",
   "execution_count": 63,
   "id": "36f2fdab",
   "metadata": {},
   "outputs": [
    {
     "name": "stdout",
     "output_type": "stream",
     "text": [
      "Girth-Volume correlation: 0.9671193682556305, p-value: 8.6443342117705775e-19\n"
     ]
    }
   ],
   "source": [
    "corr_girth_volume, p_girth_volume = pearsonr(df['Girth'], df['Volume'])\n",
    "print(f\"Girth-Volume correlation: {corr_girth_volume}, p-value: {p_girth_volume}\")"
   ]
  },
  {
   "cell_type": "code",
   "execution_count": 64,
   "id": "85e39f54",
   "metadata": {},
   "outputs": [
    {
     "name": "stdout",
     "output_type": "stream",
     "text": [
      "Height-Volume correlation: 0.5982496519917821, p-value: 0.0003783823479184885\n"
     ]
    }
   ],
   "source": [
    "corr_height_volume, p_height_volume = pearsonr(df['Height'], df['Volume'])\n",
    "print(f\"Height-Volume correlation: {corr_height_volume}, p-value: {p_height_volume}\")"
   ]
  },
  {
   "cell_type": "code",
   "execution_count": 65,
   "id": "a1aa80cc",
   "metadata": {},
   "outputs": [
    {
     "name": "stdout",
     "output_type": "stream",
     "text": [
      "Regression results for Volume ~ Girth\n",
      "                            OLS Regression Results                            \n",
      "==============================================================================\n",
      "Dep. Variable:                 Volume   R-squared:                       0.935\n",
      "Model:                            OLS   Adj. R-squared:                  0.933\n",
      "Method:                 Least Squares   F-statistic:                     419.4\n",
      "Date:                Sat, 18 May 2024   Prob (F-statistic):           8.64e-19\n",
      "Time:                        18:28:02   Log-Likelihood:                -87.822\n",
      "No. Observations:                  31   AIC:                             179.6\n",
      "Df Residuals:                      29   BIC:                             182.5\n",
      "Df Model:                           1                                         \n",
      "Covariance Type:            nonrobust                                         \n",
      "==============================================================================\n",
      "                 coef    std err          t      P>|t|      [0.025      0.975]\n",
      "------------------------------------------------------------------------------\n",
      "const        -36.9435      3.365    -10.978      0.000     -43.826     -30.061\n",
      "Girth          5.0659      0.247     20.478      0.000       4.560       5.572\n",
      "==============================================================================\n",
      "Omnibus:                        0.169   Durbin-Watson:                   1.437\n",
      "Prob(Omnibus):                  0.919   Jarque-Bera (JB):                0.382\n",
      "Skew:                           0.028   Prob(JB):                        0.826\n",
      "Kurtosis:                       2.459   Cond. No.                         60.3\n",
      "==============================================================================\n",
      "\n",
      "Notes:\n",
      "[1] Standard Errors assume that the covariance matrix of the errors is correctly specified.\n"
     ]
    }
   ],
   "source": [
    "X_girth = sm.add_constant(df['Girth'])\n",
    "model_girth = sm.OLS(df['Volume'], X_girth).fit()\n",
    "print(\"Regression results for Volume ~ Girth\")\n",
    "print(model_girth.summary())"
   ]
  },
  {
   "cell_type": "code",
   "execution_count": 66,
   "id": "d59ade95",
   "metadata": {},
   "outputs": [
    {
     "name": "stdout",
     "output_type": "stream",
     "text": [
      "Regression results for Volume ~ Height\n",
      "                            OLS Regression Results                            \n",
      "==============================================================================\n",
      "Dep. Variable:                 Volume   R-squared:                       0.358\n",
      "Model:                            OLS   Adj. R-squared:                  0.336\n",
      "Method:                 Least Squares   F-statistic:                     16.16\n",
      "Date:                Sat, 18 May 2024   Prob (F-statistic):           0.000378\n",
      "Time:                        18:28:02   Log-Likelihood:                -123.40\n",
      "No. Observations:                  31   AIC:                             250.8\n",
      "Df Residuals:                      29   BIC:                             253.7\n",
      "Df Model:                           1                                         \n",
      "Covariance Type:            nonrobust                                         \n",
      "==============================================================================\n",
      "                 coef    std err          t      P>|t|      [0.025      0.975]\n",
      "------------------------------------------------------------------------------\n",
      "const        -87.1236     29.273     -2.976      0.006    -146.994     -27.253\n",
      "Height         1.5433      0.384      4.021      0.000       0.758       2.328\n",
      "==============================================================================\n",
      "Omnibus:                        1.994   Durbin-Watson:                   0.501\n",
      "Prob(Omnibus):                  0.369   Jarque-Bera (JB):                1.624\n",
      "Skew:                           0.406   Prob(JB):                        0.444\n",
      "Kurtosis:                       2.227   Cond. No.                         928.\n",
      "==============================================================================\n",
      "\n",
      "Notes:\n",
      "[1] Standard Errors assume that the covariance matrix of the errors is correctly specified.\n"
     ]
    }
   ],
   "source": [
    "X_height = sm.add_constant(df['Height'])\n",
    "model_height = sm.OLS(df['Volume'], X_height).fit()\n",
    "print(\"Regression results for Volume ~ Height\")\n",
    "print(model_height.summary())"
   ]
  },
  {
   "cell_type": "code",
   "execution_count": 67,
   "id": "da922b2b",
   "metadata": {},
   "outputs": [
    {
     "name": "stdout",
     "output_type": "stream",
     "text": [
      "Regression results for Volume ~ Girth + Height\n",
      "                            OLS Regression Results                            \n",
      "==============================================================================\n",
      "Dep. Variable:                 Volume   R-squared:                       0.948\n",
      "Model:                            OLS   Adj. R-squared:                  0.944\n",
      "Method:                 Least Squares   F-statistic:                     255.0\n",
      "Date:                Sat, 18 May 2024   Prob (F-statistic):           1.07e-18\n",
      "Time:                        18:28:02   Log-Likelihood:                -84.455\n",
      "No. Observations:                  31   AIC:                             174.9\n",
      "Df Residuals:                      28   BIC:                             179.2\n",
      "Df Model:                           2                                         \n",
      "Covariance Type:            nonrobust                                         \n",
      "==============================================================================\n",
      "                 coef    std err          t      P>|t|      [0.025      0.975]\n",
      "------------------------------------------------------------------------------\n",
      "const        -57.9877      8.638     -6.713      0.000     -75.682     -40.293\n",
      "Girth          4.7082      0.264     17.816      0.000       4.167       5.249\n",
      "Height         0.3393      0.130      2.607      0.014       0.073       0.606\n",
      "==============================================================================\n",
      "Omnibus:                        0.923   Durbin-Watson:                   1.266\n",
      "Prob(Omnibus):                  0.630   Jarque-Bera (JB):                0.950\n",
      "Skew:                           0.310   Prob(JB):                        0.622\n",
      "Kurtosis:                       2.408   Cond. No.                         959.\n",
      "==============================================================================\n",
      "\n",
      "Notes:\n",
      "[1] Standard Errors assume that the covariance matrix of the errors is correctly specified.\n"
     ]
    }
   ],
   "source": [
    "X_both = sm.add_constant(df[['Girth', 'Height']])\n",
    "model_both = sm.OLS(df['Volume'], X_both).fit()\n",
    "print(\"Regression results for Volume ~ Girth + Height\")\n",
    "print(model_both.summary())"
   ]
  },
  {
   "cell_type": "code",
   "execution_count": 68,
   "id": "e09e4e3f",
   "metadata": {},
   "outputs": [
    {
     "name": "stdout",
     "output_type": "stream",
     "text": [
      "Model comparison based on R-squared value:\n",
      "Volume ~ Girth: R-squared = 0.9353198724551699\n",
      "Volume ~ Height: R-squared = 0.3579026461082886\n",
      "Volume ~ Girth + Height: R-squared = 0.9479500377816745\n"
     ]
    }
   ],
   "source": [
    "print(\"Model comparison based on R-squared value:\")\n",
    "print(f\"Volume ~ Girth: R-squared = {model_girth.rsquared}\")\n",
    "print(f\"Volume ~ Height: R-squared = {model_height.rsquared}\")\n",
    "print(f\"Volume ~ Girth + Height: R-squared = {model_both.rsquared}\")\n"
   ]
  },
  {
   "cell_type": "code",
   "execution_count": null,
   "id": "cab23efe",
   "metadata": {},
   "outputs": [],
   "source": []
  }
 ],
 "metadata": {
  "kernelspec": {
   "display_name": "Python 3 (ipykernel)",
   "language": "python",
   "name": "python3"
  },
  "language_info": {
   "codemirror_mode": {
    "name": "ipython",
    "version": 3
   },
   "file_extension": ".py",
   "mimetype": "text/x-python",
   "name": "python",
   "nbconvert_exporter": "python",
   "pygments_lexer": "ipython3",
   "version": "3.11.7"
  }
 },
 "nbformat": 4,
 "nbformat_minor": 5
}
